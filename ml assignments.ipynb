{
 "cells": [
  {
   "cell_type": "code",
   "execution_count": 43,
   "id": "7fa27db2",
   "metadata": {
    "collapsed": true
   },
   "outputs": [
    {
     "name": "stdout",
     "output_type": "stream",
     "text": [
      "sorted list is : [19, 19, 20, 22, 24, 24, 25, 25, 26]\n",
      "Max age is : 26\n",
      "Min age  is : 19\n",
      "after the adding of the min age again to the list : [19, 19, 20, 22, 24, 24, 25, 25, 26, 19]\n",
      "after the adding of the max age again to the list : [19, 19, 20, 22, 24, 24, 25, 25, 26, 19, 26]\n",
      "Median of 19,22,19,24,25,26,25,24  is : 24\n",
      "Average  age = 22.67\n",
      "range of ages   : 7\n"
     ]
    }
   ],
   "source": [
    "##############################################question1\n",
    "# sorting the list\n",
    "ages = [19,22,19,24,20,25,26,25,24]\n",
    "ages.sort()\n",
    "print(\"sorted list is : \",end=\"\") #sorting the list\n",
    "print(ages)\n",
    "print(\"Max age is : \",end=\"\") #finding the max age\n",
    "print(max(ages))\n",
    "print(\"Min age  is : \",end=\"\") #finding the min age\n",
    "print(min(ages))\n",
    "ages.extend([min(ages)]) # adding min age in list \n",
    "print(\"after the adding of the min age again to the list : \",end=\"\")\n",
    "print(ages)\n",
    "ages.extend([max(ages)])  # adding max age in list\n",
    "print(\"after the adding of the max age again to the list : \",end=\"\")\n",
    "print(ages)\n",
    "import statistics  # Find the median age (one middle item or two middle items divided by two)\n",
    "print(\"Median of 19,22,19,24,25,26,25,24  is : \",end=\"\")\n",
    "print(statistics.median([19,22,19,24,20,25,26,25,24]))\n",
    "# Find the average age (sum of all items divided by their number)\n",
    "def Average(ages):\n",
    "    return sum(ages) / len(ages)\n",
    "ages = [19,22,19,24,20,25,26,25,24]\n",
    "average = Average(ages)\n",
    "print(\"Average  age =\", round(average, 2))\n",
    "#Find the range of the ages (max minus min)\n",
    "ages = [19,22,19,24,20,25,26,25,24]\n",
    "max_val = max(ages)\n",
    "min_val = min(ages)\n",
    "range_ = max_val - min_val\n",
    "print(\"range of ages   : \",end=\"\")\n",
    "print(range_)\n"
   ]
  },
  {
   "cell_type": "code",
   "execution_count": 48,
   "id": "6d120306",
   "metadata": {},
   "outputs": [
    {
     "name": "stdout",
     "output_type": "stream",
     "text": [
      "{'name': 'triksy', 'colour': 'brown', 'breed': 'golden retriever', 'legs': 'four', 'age': 'seven year'}\n",
      "{'first_name': 'nani', 'last_name': 'pinnamaneni', 'gender': 'male', 'age': '23', 'marital status': 'single', 'skills': 'AutoCAD', 'country': 'india', 'city': 'vijayawada', 'adress': '#321 st'}\n",
      "9\n",
      "AutoCAD\n",
      "<class 'str'>\n",
      "{'first_name': 'nani', 'last_name': 'pinnamaneni', 'gender': 'male', 'age': '23', 'marital status': 'single', 'skills': 'AutoCad,python', 'country': 'india', 'city': 'vijayawada', 'adress': '#321 st'}\n",
      "dict_keys(['first_name', 'last_name', 'gender', 'age', 'marital status', 'skills', 'country', 'city', 'adress'])\n",
      "dict_values(['nani', 'pinnamaneni', 'male', '23', 'single', 'AutoCad,python', 'india', 'vijayawada', '#321 st'])\n"
     ]
    }
   ],
   "source": [
    "#question 2\n",
    "dog = {}\n",
    "dog[\"name\"] = \"triksy\"\n",
    "dog[\"colour\"] = \"brown\"\n",
    "dog[\"breed\"] = \"golden retriever\"\n",
    "dog[\"legs\"] = \"four\"\n",
    "dog[\"age\"]= \"seven year\"\n",
    "print(dog)\n",
    "dct = {'key1':'value1', 'key2':'value2', 'key3':'value3', 'key4':'value4'}\n",
    "\n",
    "\n",
    "student = {\"first_name\":\"nani\",\n",
    "           \"last_name\":\"pinnamaneni\",\n",
    "           \"gender\":\"male\",\n",
    "           \"age\":\"23\",\n",
    "           \"marital status\":\"single\",\n",
    "           \"skills\":\"AutoCAD\",\n",
    "           \"country\":\"india\",\n",
    "           \"city\":\"vijayawada\",\n",
    "           \"adress\":\"#321 st\"}\n",
    "print(student)\n",
    "p=len(student)\n",
    "print(p)\n",
    "print(student[\"skills\"])\n",
    "print(type(student[\"skills\"]))\n",
    "student[\"skills\"]=\"AutoCad,python\"\n",
    "print(student)\n",
    "keyslist =(student.keys())\n",
    "print(keyslist)\n",
    "keyslist = (student.values())\n",
    "print(keyslist)"
   ]
  },
  {
   "cell_type": "code",
   "execution_count": 45,
   "id": "99312b37",
   "metadata": {},
   "outputs": [
    {
     "name": "stdout",
     "output_type": "stream",
     "text": [
      "('nithin', 'manoj', 'priyanka', 'chinni')\n",
      "no. of siblings  = 4\n",
      "('nithin', 'manoj', 'priyanka', 'chinni', 'ram', 'chandrasena')\n"
     ]
    }
   ],
   "source": [
    "############ Q3\n",
    "##Create a tuple containing names of your sisters and your brothers\n",
    "brothers_tuple = ('nithin','manoj')\n",
    "sisters_tuple  = ('priyanka','chinni')\n",
    "siblings = brothers_tuple + sisters_tuple\n",
    "print(siblings)\n",
    "x = len(siblings)\n",
    "print( \"no. of siblings  =\", x )\n",
    "family_members = siblings + ('ram','chandrasena')\n",
    "print(family_members)"
   ]
  },
  {
   "cell_type": "code",
   "execution_count": 46,
   "id": "54a9e237",
   "metadata": {
    "collapsed": true
   },
   "outputs": [
    {
     "name": "stdout",
     "output_type": "stream",
     "text": [
      "The length of set is: 7\n",
      "{'Apple', 'Microsoft', 'Google', 'Amazon', 'twitter', 'Facebook', 'Oracle', 'IBM'}\n",
      "{'Apple', 'DELOITTE', 'Facebook', 'IBM', 'Microsoft', 'Google', 'Amazon', 'TCS', 'twitter', 'Oracle'}\n",
      "{'Apple', 'DELOITTE', 'Facebook', 'IBM', 'Microsoft', 'Google', 'TCS', 'twitter', 'Oracle'}\n",
      "{19, 20, 22, 24, 25, 26, 27, 28}\n",
      "{19, 20, 22, 24, 25, 26}\n",
      "True\n",
      "False\n",
      "{19, 20, 22, 24, 25, 26, 27, 28}\n",
      "{19, 20, 22, 24, 25, 26, 27, 28}\n",
      "The symmetry between A and B is= {27, 28}\n",
      "set()\n",
      "set()\n"
     ]
    }
   ],
   "source": [
    "######Q4\n",
    "it_companies = {'Facebook', 'Google', 'Microsoft', 'Apple','IBM', 'Oracle','Amazon'}\n",
    "A = {19, 22, 24, 20, 25, 26}\n",
    "B = {19, 22, 20, 25, 26, 24, 28, 27}\n",
    "age = [22, 19, 24, 25, 26, 24, 25, 24]\n",
    "print(\"The length of set is:\", len(it_companies))\n",
    "company = ('twitter')\n",
    "it_companies.add(company)\n",
    "print(it_companies)\n",
    "multiple_companies = {'TCS','DELOITTE'}\n",
    "it_companies.update(multiple_companies)\n",
    "print(it_companies)\n",
    "it_companies.remove('Amazon') \n",
    "print(it_companies)\n",
    "#   remove() method will raise an error if the specified item does not exist, and the discard() method will not.\n",
    "#Join A and B\n",
    "C = A.union(B)\n",
    "print(C)\n",
    "#Find A intersection B\n",
    "print(A.intersection(B))\n",
    "#Is A subset of B\n",
    "print(A.issubset(B))\n",
    "#Are A and B disjoint sets\n",
    "print(A.isdisjoint(B))\n",
    "#Join A with B and B with A\n",
    "A.update(B) #A with B\n",
    "print(A)\n",
    "B.update(A)  #B with A\n",
    "print(B)\n",
    "#What is the symmetric difference between A and B\n",
    "A = {19, 22, 24, 20, 25, 26}\n",
    "B = {19, 22, 20, 25, 26, 24, 28, 27}\n",
    "symmetry = A.symmetric_difference(B)\n",
    "print('The symmetry between A and B is=', symmetry)\n",
    "###Delete the sets completely\n",
    "A.clear()\n",
    "print(A)\n",
    "B.clear()\n",
    "print(B)"
   ]
  },
  {
   "cell_type": "code",
   "execution_count": 25,
   "id": "7e0a3d66",
   "metadata": {
    "collapsed": true
   },
   "outputs": [
    {
     "name": "stdout",
     "output_type": "stream",
     "text": [
      " Please Enter the radius of a circle: 10\n",
      "_circum_of_circle_ = 62.80\n",
      "_area_of_circle_= 314.00\n"
     ]
    }
   ],
   "source": [
    "#########Q5\n",
    "PI = 3.14\n",
    "radius = float(input(' Please Enter the radius of a circle: '))\n",
    "diameter = 2 * radius\n",
    "circumference = 2 * PI * radius\n",
    "area = PI * radius * radius\n",
    "print(\"_circum_of_circle_ = %.2f\" %circumference)\n",
    "print(\"_area_of_circle_= %.2f\" %area)"
   ]
  },
  {
   "cell_type": "code",
   "execution_count": 26,
   "id": "568f4ac2",
   "metadata": {
    "collapsed": true
   },
   "outputs": [
    {
     "name": "stdout",
     "output_type": "stream",
     "text": [
      "Please enter a sentence: I am a teacher and I love to inspire and teach people\n",
      "the no of unique words used in this sentense:  10\n"
     ]
    }
   ],
   "source": [
    "###########Q6\n",
    "a = input(\"Please enter a sentence: \")\n",
    "unique = set(a.split(' '))\n",
    "b = len(unique)\n",
    "print(\"the no of unique words used in this sentense: \",b)"
   ]
  },
  {
   "cell_type": "code",
   "execution_count": 27,
   "id": "4a6109b4",
   "metadata": {
    "collapsed": true
   },
   "outputs": [
    {
     "name": "stdout",
     "output_type": "stream",
     "text": [
      "Name    \tAge\tCountry  \tCity\n",
      "Asabench\t250\tFinlnd   \tHelsink\n"
     ]
    }
   ],
   "source": [
    "#############Q7\n",
    "a = ('Name    \\tAge\\tCountry  \\tCity')\n",
    "b = ('Asabench\\t250\\tFinlnd   \\tHelsink')\n",
    "print(a) \n",
    "print(b)"
   ]
  },
  {
   "cell_type": "code",
   "execution_count": 28,
   "id": "8a26ceb7",
   "metadata": {
    "collapsed": true
   },
   "outputs": [
    {
     "name": "stdout",
     "output_type": "stream",
     "text": [
      "The area of the circle with radius 10 is 314.000\n"
     ]
    }
   ],
   "source": [
    "#############Q8\n",
    "radius = 10\n",
    "area = 3.14 * radius * radius\n",
    "print(f'The area of the circle with radius 10 is {area:.3f}')"
   ]
  },
  {
   "cell_type": "code",
   "execution_count": 49,
   "id": "66785e07",
   "metadata": {},
   "outputs": [
    {
     "name": "stdout",
     "output_type": "stream",
     "text": [
      "Enter number of students : 4\n",
      "\n",
      "Enter weights of students : 150 155 145 148\n",
      "\n",
      "L1 :  [150, 155, 145, 148]\n",
      "['68.03', '70.30', '65.76', '67.13']\n"
     ]
    }
   ],
   "source": [
    "##############Q9\n",
    "# number of students\n",
    "n = int(input(\"Enter number of students : \"))\n",
    "# this line read inputs from user using map() functio\n",
    "a = list(map(int,input(\"\\nEnter weights of students : \").strip().split()))[:n]\n",
    "print(\"\\nL1 : \", a)\n",
    "b=[i/2.2048364154 for i in a]\n",
    "b=['%.2f' % elem for elem in b]\n",
    "print(b)\n"
   ]
  },
  {
   "cell_type": "code",
   "execution_count": 30,
   "id": "2a85613c",
   "metadata": {
    "collapsed": true
   },
   "outputs": [
    {
     "name": "stdout",
     "output_type": "stream",
     "text": [
      "value1\n",
      "value4\n",
      "Asabeneh\n",
      "Finland\n",
      "['JavaScript', 'React', 'Node', 'MongoDB', 'Python']\n",
      "JavaScript\n",
      "Space street\n"
     ]
    },
    {
     "ename": "KeyError",
     "evalue": "'city'",
     "output_type": "error",
     "traceback": [
      "\u001b[1;31m---------------------------------------------------------------------------\u001b[0m",
      "\u001b[1;31mKeyError\u001b[0m                                  Traceback (most recent call last)",
      "\u001b[1;32m~\\AppData\\Local\\Temp/ipykernel_1472/1054136673.py\u001b[0m in \u001b[0;36m<module>\u001b[1;34m\u001b[0m\n\u001b[0;32m     22\u001b[0m \u001b[0mprint\u001b[0m\u001b[1;33m(\u001b[0m\u001b[0mperson\u001b[0m\u001b[1;33m[\u001b[0m\u001b[1;34m'skills'\u001b[0m\u001b[1;33m]\u001b[0m\u001b[1;33m[\u001b[0m\u001b[1;36m0\u001b[0m\u001b[1;33m]\u001b[0m\u001b[1;33m)\u001b[0m  \u001b[1;31m# JavaScript\u001b[0m\u001b[1;33m\u001b[0m\u001b[1;33m\u001b[0m\u001b[0m\n\u001b[0;32m     23\u001b[0m \u001b[0mprint\u001b[0m\u001b[1;33m(\u001b[0m\u001b[0mperson\u001b[0m\u001b[1;33m[\u001b[0m\u001b[1;34m'address'\u001b[0m\u001b[1;33m]\u001b[0m\u001b[1;33m[\u001b[0m\u001b[1;34m'street'\u001b[0m\u001b[1;33m]\u001b[0m\u001b[1;33m)\u001b[0m \u001b[1;31m# Space street\u001b[0m\u001b[1;33m\u001b[0m\u001b[1;33m\u001b[0m\u001b[0m\n\u001b[1;32m---> 24\u001b[1;33m \u001b[0mprint\u001b[0m\u001b[1;33m(\u001b[0m\u001b[0mperson\u001b[0m\u001b[1;33m[\u001b[0m\u001b[1;34m'city'\u001b[0m\u001b[1;33m]\u001b[0m\u001b[1;33m)\u001b[0m       \u001b[1;31m# Error\u001b[0m\u001b[1;33m\u001b[0m\u001b[1;33m\u001b[0m\u001b[0m\n\u001b[0m",
      "\u001b[1;31mKeyError\u001b[0m: 'city'"
     ]
    }
   ],
   "source": [
    "\n"
   ]
  },
  {
   "cell_type": "code",
   "execution_count": null,
   "id": "10350b2c",
   "metadata": {},
   "outputs": [],
   "source": []
  }
 ],
 "metadata": {
  "kernelspec": {
   "display_name": "Python 3 (ipykernel)",
   "language": "python",
   "name": "python3"
  },
  "language_info": {
   "codemirror_mode": {
    "name": "ipython",
    "version": 3
   },
   "file_extension": ".py",
   "mimetype": "text/x-python",
   "name": "python",
   "nbconvert_exporter": "python",
   "pygments_lexer": "ipython3",
   "version": "3.9.7"
  }
 },
 "nbformat": 4,
 "nbformat_minor": 5
}
